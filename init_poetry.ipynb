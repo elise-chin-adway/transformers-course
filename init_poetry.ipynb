{
  "nbformat": 4,
  "nbformat_minor": 0,
  "metadata": {
    "colab": {
      "provenance": [],
      "authorship_tag": "ABX9TyOMZ5rZOPSzsNqtXYcPPcsz",
      "include_colab_link": true
    },
    "kernelspec": {
      "name": "python3",
      "display_name": "Python 3"
    },
    "language_info": {
      "name": "python"
    }
  },
  "cells": [
    {
      "cell_type": "markdown",
      "metadata": {
        "id": "view-in-github",
        "colab_type": "text"
      },
      "source": [
        "<a href=\"https://colab.research.google.com/github/elise-chin-adway/transformers-course/blob/main/init_poetry.ipynb\" target=\"_parent\"><img src=\"https://colab.research.google.com/assets/colab-badge.svg\" alt=\"Open In Colab\"/></a>"
      ]
    },
    {
      "cell_type": "code",
      "execution_count": 1,
      "metadata": {
        "colab": {
          "base_uri": "https://localhost:8080/"
        },
        "id": "W8cPzzr6SGKv",
        "outputId": "12c1586e-7122-47e2-9ba1-50718bb01f22"
      },
      "outputs": [
        {
          "output_type": "stream",
          "name": "stdout",
          "text": [
            "Mounted at /content/gdrive\n"
          ]
        }
      ],
      "source": [
        "from google.colab import drive\n",
        "drive.mount(\"/content/gdrive\")"
      ]
    },
    {
      "cell_type": "code",
      "source": [
        "%cd /content/gdrive/MyDrive/Formations/transformers-course/"
      ],
      "metadata": {
        "colab": {
          "base_uri": "https://localhost:8080/"
        },
        "id": "CXd8W2UUSZW1",
        "outputId": "5ddecaab-496c-43f6-aa76-9ac54a76cd13"
      },
      "execution_count": 5,
      "outputs": [
        {
          "output_type": "stream",
          "name": "stdout",
          "text": [
            "/content/gdrive/MyDrive/Formations/transformers-course\n"
          ]
        }
      ]
    },
    {
      "cell_type": "code",
      "source": [
        "!pip install poetry"
      ],
      "metadata": {
        "id": "AuLXpdmaSlLn"
      },
      "execution_count": null,
      "outputs": []
    },
    {
      "cell_type": "code",
      "source": [
        "# Configure poetry not to create virtual environments in the project folder\n",
        "!poetry config virtualenvs.in-project false"
      ],
      "metadata": {
        "id": "nD6ctvCJSoxm"
      },
      "execution_count": 7,
      "outputs": []
    },
    {
      "cell_type": "code",
      "source": [
        "# Create the pyproject.toml file\n",
        "!poetry init"
      ],
      "metadata": {
        "colab": {
          "base_uri": "https://localhost:8080/"
        },
        "id": "oUoa9pU_SvJc",
        "outputId": "6b9a2236-78c4-41cf-9703-a72007343f19"
      },
      "execution_count": 8,
      "outputs": [
        {
          "output_type": "stream",
          "name": "stdout",
          "text": [
            "\n",
            "This command will guide you through creating your \u001b[34mpyproject.toml\u001b[39m config.\n",
            "\n",
            "\u001b[36mPackage name [\u001b[39m\u001b[32mtransformers-course\u001b[39m\u001b[36m]: \u001b[39m \n",
            "\u001b[36mVersion [\u001b[39m\u001b[32m0.1.0\u001b[39m\u001b[36m]: \u001b[39m \n",
            "\u001b[36mDescription []: \u001b[39m \n",
            "\u001b[36mAuthor [\u001b[39m\u001b[32mElise Chin \u001b[39m\u001b[32m<elise.chin@adway-conseil.com>\u001b[39m\u001b[36m, n to skip]: \u001b[39m \n",
            "\u001b[36mLicense []: \u001b[39m \n",
            "\u001b[36mCompatible Python versions [\u001b[39m\u001b[32m^3.8\u001b[39m\u001b[36m]: \u001b[39m \n",
            "\n",
            "\u001b[36mWould you like to define your main dependencies interactively? (yes/no)\u001b[39m [\u001b[32myes\u001b[39m] \n",
            "You can specify a package in the following forms:\n",
            "  - A single name (\u001b[39;1mrequests\u001b[39;22m): this will search for matches on PyPI\n",
            "  - A name and a constraint (\u001b[39;1mrequests@^2.23.0\u001b[39;22m)\n",
            "  - A git url (\u001b[39;1mgit+https://github.com/python-poetry/poetry.git\u001b[39;22m)\n",
            "  - A git url with a revision (\u001b[39;1mgit+https://github.com/python-poetry/poetry.git#develop\u001b[39;22m)\n",
            "  - A file path (\u001b[39;1m../my-package/my-package.whl\u001b[39;22m)\n",
            "  - A directory (\u001b[39;1m../my-package/\u001b[39;22m)\n",
            "  - A url (\u001b[39;1mhttps://example.com/packages/my-package-0.1.0.tar.gz\u001b[39;22m)\n",
            "\n",
            "\u001b[36mPackage to add or search for (leave blank to skip):\u001b[39m datasets\n",
            "Found \u001b[34m20\u001b[39m packages matching \u001b[36mdatasets\u001b[39m\n",
            "Showing the first 10 matches\n",
            "\u001b[36m\n",
            "Enter package # to add, or the complete package name if it is not listed\u001b[39m []:\n",
            " [\u001b[32m 0\u001b[39m] datasets\n",
            " [\u001b[32m 1\u001b[39m] hcai-datasets\n",
            " [\u001b[32m 2\u001b[39m] aac-datasets\n",
            " [\u001b[32m 3\u001b[39m] astro-datasets\n",
            " [\u001b[32m 4\u001b[39m] labelme2datasets\n",
            " [\u001b[32m 5\u001b[39m] pt-datasets\n",
            " [\u001b[32m 6\u001b[39m] graphite-datasets\n",
            " [\u001b[32m 7\u001b[39m] tensorflow-datasets\n",
            " [\u001b[32m 8\u001b[39m] eccd-datasets\n",
            " [\u001b[32m 9\u001b[39m] relational-datasets\n",
            " [\u001b[32m 10\u001b[39m] \n",
            " > 0\u001b[K\n",
            "\u001b[36mEnter the version constraint to require (or leave blank to use the latest version):\u001b[39m \n",
            "Using version \u001b[39;1m^2.9.0\u001b[39;22m for \u001b[36mdatasets\u001b[39m\n",
            "\u001b[36m\n",
            "Add a package (leave blank to skip):\u001b[39m evaluate\n",
            "Found \u001b[34m20\u001b[39m packages matching \u001b[36mevaluate\u001b[39m\n",
            "Showing the first 10 matches\n",
            "\u001b[36m\n",
            "Enter package # to add, or the complete package name if it is not listed\u001b[39m []:\n",
            " [\u001b[32m 0\u001b[39m] evaluate\n",
            " [\u001b[32m 1\u001b[39m] evaluate-service\n",
            " [\u001b[32m 2\u001b[39m] evaluate-dfs\n",
            " [\u001b[32m 3\u001b[39m] evaluate-classification\n",
            " [\u001b[32m 4\u001b[39m] evaluate.m\n",
            " [\u001b[32m 5\u001b[39m] whisper-evaluate\n",
            " [\u001b[32m 6\u001b[39m] gitlab-evaluate\n",
            " [\u001b[32m 7\u001b[39m] sequence-evaluate\n",
            " [\u001b[32m 8\u001b[39m] xlsx-evaluate\n",
            " [\u001b[32m 9\u001b[39m] motional-ml-evaluate\n",
            " [\u001b[32m 10\u001b[39m] \n",
            " > 0\u001b[K\n",
            "\u001b[36mEnter the version constraint to require (or leave blank to use the latest version):\u001b[39m \n",
            "Using version \u001b[39;1m^0.4.0\u001b[39;22m for \u001b[36mevaluate\u001b[39m\n",
            "\u001b[36m\n",
            "Add a package (leave blank to skip):\u001b[39m transformers[sentencepiece]\n",
            "Found \u001b[34m20\u001b[39m packages matching \u001b[36mtransformers[sentencepiece]\u001b[39m\n",
            "Showing the first 10 matches\n",
            "\u001b[36m\n",
            "Enter package # to add, or the complete package name if it is not listed\u001b[39m []:\n",
            " [\u001b[32m 0\u001b[39m] transformers\n",
            " [\u001b[32m 1\u001b[39m] transformers3\n",
            " [\u001b[32m 2\u001b[39m] mc-transformers\n",
            " [\u001b[32m 3\u001b[39m] in-transformers\n",
            " [\u001b[32m 4\u001b[39m] plain-transformers\n",
            " [\u001b[32m 5\u001b[39m] transformers-finetuning\n",
            " [\u001b[32m 6\u001b[39m] ane-transformers\n",
            " [\u001b[32m 7\u001b[39m] transformers-interpret\n",
            " [\u001b[32m 8\u001b[39m] doc-transformers\n",
            " [\u001b[32m 9\u001b[39m] more-transformers\n",
            " [\u001b[32m 10\u001b[39m] \n",
            " > 0\u001b[K\n",
            "\u001b[36mEnter the version constraint to require (or leave blank to use the latest version):\u001b[39m \n",
            "Using version \u001b[39;1m^4.26.0\u001b[39;22m for \u001b[36mtransformers\u001b[39m\n",
            "\u001b[36m\n",
            "Add a package (leave blank to skip):\u001b[39m \n",
            "\n",
            "\u001b[36mWould you like to define your development dependencies interactively? (yes/no)\u001b[39m [\u001b[32myes\u001b[39m] \n",
            "\u001b[36mPackage to add or search for (leave blank to skip):\u001b[39m \n",
            "\n",
            "\u001b[34mGenerated file\u001b[39m\n",
            "\n",
            "[tool.poetry]\n",
            "name = \"transformers-course\"\n",
            "version = \"0.1.0\"\n",
            "description = \"\"\n",
            "authors = [\"Elise Chin <elise.chin@adway-conseil.com>\"]\n",
            "readme = \"README.md\"\n",
            "packages = [{include = \"transformers_course\"}]\n",
            "\n",
            "[tool.poetry.dependencies]\n",
            "python = \"^3.8\"\n",
            "datasets = \"^2.9.0\"\n",
            "evaluate = \"^0.4.0\"\n",
            "transformers = {extras = [\"sentencepiece\"], version = \"^4.26.0\"}\n",
            "\n",
            "\n",
            "[build-system]\n",
            "requires = [\"poetry-core\"]\n",
            "build-backend = \"poetry.core.masonry.api\"\n",
            "\n",
            "\n",
            "\u001b[36mDo you confirm generation? (yes/no)\u001b[39m [\u001b[32myes\u001b[39m] \n"
          ]
        }
      ]
    },
    {
      "cell_type": "code",
      "source": [
        "!poetry install --no-ansi"
      ],
      "metadata": {
        "colab": {
          "base_uri": "https://localhost:8080/"
        },
        "id": "KLsDBUEtSwEp",
        "outputId": "ecaf51da-38cb-411f-f0da-c7b16837555f"
      },
      "execution_count": 9,
      "outputs": [
        {
          "output_type": "stream",
          "name": "stdout",
          "text": [
            "Creating virtualenv transformers-course-dN6LDi8Q-py3.8 in /root/.cache/pypoetry/virtualenvs\n",
            "Updating dependencies\n",
            "Resolving dependencies...\n",
            "\n",
            "Writing lock file\n",
            "\n",
            "Package operations: 35 installs, 0 updates, 0 removals\n",
            "\n",
            "  • Installing idna (3.4)\n",
            "  • Installing multidict (6.0.4)\n",
            "  • Installing async-timeout (3.0.1)\n",
            "  • Installing certifi (2022.12.7)\n",
            "  • Installing chardet (4.0.0)\n",
            "  • Installing attrs (22.2.0)\n",
            "  • Installing six (1.16.0)\n",
            "  • Installing charset-normalizer (3.0.1)\n",
            "  • Installing typing-extensions (4.4.0)\n",
            "  • Installing urllib3 (1.26.14)\n",
            "  • Installing yarl (1.8.2)\n",
            "  • Installing aiohttp (3.7.4.post0)\n",
            "  • Installing dill (0.3.6)\n",
            "  • Installing filelock (3.9.0)\n",
            "  • Installing python-dateutil (2.8.2)\n",
            "  • Installing numpy (1.24.1)\n",
            "  • Installing packaging (23.0)\n",
            "  • Installing pytz (2022.7.1)\n",
            "  • Installing pyyaml (6.0)\n",
            "  • Installing requests (2.28.2)\n",
            "  • Installing tqdm (4.64.1)\n",
            "  • Installing fsspec (2023.1.0)\n",
            "  • Installing huggingface-hub (0.12.0)\n",
            "  • Installing multiprocess (0.70.14)\n",
            "  • Installing pandas (1.5.3)\n",
            "  • Installing responses (0.18.0)\n",
            "  • Installing pyarrow (11.0.0)\n",
            "  • Installing xxhash (3.2.0)\n",
            "  • Installing datasets (2.9.0)\n",
            "  • Installing protobuf (3.20.2)\n",
            "  • Installing sentencepiece (0.1.97)\n",
            "  • Installing regex (2022.10.31)\n",
            "  • Installing tokenizers (0.13.2)\n",
            "  • Installing evaluate (0.4.0)\n",
            "  • Installing transformers (4.26.0)\n",
            "\n",
            "/content/gdrive/MyDrive/Formations/transformers-course/transformers_course does not contain any element\n"
          ]
        }
      ]
    },
    {
      "cell_type": "code",
      "source": [
        "ENV_NAME = \"transformers-course-dN6LDi8Q-py3.8\"\n",
        "PYTHON_VERSION = \"python3.8\""
      ],
      "metadata": {
        "id": "BkByaSsmTQTT"
      },
      "execution_count": 10,
      "outputs": []
    },
    {
      "cell_type": "code",
      "source": [
        "!ls \"/root/.cache/pypoetry/virtualenvs/{ENV_NAME}/lib/{PYTHON_VERSION}/site-packages\""
      ],
      "metadata": {
        "colab": {
          "base_uri": "https://localhost:8080/"
        },
        "id": "8Na_hGypTfrD",
        "outputId": "f5f88e66-69d8-40eb-c861-5df455cddc79"
      },
      "execution_count": 13,
      "outputs": [
        {
          "output_type": "stream",
          "name": "stdout",
          "text": [
            "aiohttp\t\t\t\t    pkg_resources\n",
            "aiohttp-3.7.4.post0.dist-info\t    protobuf-3.20.2.dist-info\n",
            "async_timeout\t\t\t    protobuf-3.20.2-py3.8-nspkg.pth\n",
            "async_timeout-3.0.1.dist-info\t    pyarrow\n",
            "attr\t\t\t\t    pyarrow-11.0.0.dist-info\n",
            "attrs\t\t\t\t    __pycache__\n",
            "attrs-22.2.0.dist-info\t\t    python_dateutil-2.8.2.dist-info\n",
            "certifi\t\t\t\t    pytz\n",
            "certifi-2022.12.7.dist-info\t    pytz-2022.7.1.dist-info\n",
            "chardet\t\t\t\t    PyYAML-6.0.dist-info\n",
            "chardet-4.0.0.dist-info\t\t    regex\n",
            "charset_normalizer\t\t    regex-2022.10.31.dist-info\n",
            "charset_normalizer-3.0.1.dist-info  requests\n",
            "datasets\t\t\t    requests-2.28.2.dist-info\n",
            "datasets-2.9.0.dist-info\t    responses\n",
            "dateutil\t\t\t    responses-0.18.0.dist-info\n",
            "dill\t\t\t\t    sentencepiece\n",
            "dill-0.3.6.dist-info\t\t    sentencepiece-0.1.97.dist-info\n",
            "_distutils_hack\t\t\t    setuptools\n",
            "distutils-precedence.pth\t    setuptools-65.6.3.dist-info\n",
            "evaluate\t\t\t    setuptools-65.6.3.virtualenv\n",
            "evaluate-0.4.0.dist-info\t    six-1.16.0.dist-info\n",
            "filelock\t\t\t    six.py\n",
            "filelock-3.9.0.dist-info\t    tokenizers\n",
            "fsspec\t\t\t\t    tokenizers-0.13.2.dist-info\n",
            "fsspec-2023.1.0.dist-info\t    tokenizers.libs\n",
            "google\t\t\t\t    tqdm\n",
            "huggingface_hub\t\t\t    tqdm-4.64.1.dist-info\n",
            "huggingface_hub-0.12.0.dist-info    transformers\n",
            "idna\t\t\t\t    transformers-4.26.0.dist-info\n",
            "idna-3.4.dist-info\t\t    typing_extensions-4.4.0.dist-info\n",
            "multidict\t\t\t    typing_extensions.py\n",
            "multidict-6.0.4.dist-info\t    urllib3\n",
            "_multiprocess\t\t\t    urllib3-1.26.14.dist-info\n",
            "multiprocess\t\t\t    _virtualenv.pth\n",
            "multiprocess-0.70.14.dist-info\t    _virtualenv.py\n",
            "numpy\t\t\t\t    wheel\n",
            "numpy-1.24.1.dist-info\t\t    wheel-0.38.4.dist-info\n",
            "numpy.libs\t\t\t    wheel-0.38.4.virtualenv\n",
            "packaging\t\t\t    xxhash\n",
            "packaging-23.0.dist-info\t    xxhash-3.2.0.dist-info\n",
            "pandas\t\t\t\t    _yaml\n",
            "pandas-1.5.3.dist-info\t\t    yaml\n",
            "pip\t\t\t\t    yarl\n",
            "pip-22.3.1.dist-info\t\t    yarl-1.8.2.dist-info\n",
            "pip-22.3.1.virtualenv\n"
          ]
        }
      ]
    },
    {
      "cell_type": "code",
      "source": [],
      "metadata": {
        "id": "wzs3s4jCTnjn"
      },
      "execution_count": null,
      "outputs": []
    }
  ]
}